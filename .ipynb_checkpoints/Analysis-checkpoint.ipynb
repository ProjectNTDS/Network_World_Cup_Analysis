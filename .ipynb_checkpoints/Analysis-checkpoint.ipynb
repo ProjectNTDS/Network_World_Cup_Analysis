{
 "cells": [
  {
   "cell_type": "markdown",
   "metadata": {},
   "source": [
    "# Remarks:\n",
    "\n",
    "- Save your adjacency matrix with an evident name in the sub folder \"<b><i>./Data/Adjacencies/</i></b>\" and update list next cell.\n",
    "- Only overwrite these if you're sure of what you're bringing\n",
    "- If you change Imports, make sure the rest works\n",
    "- Please check your results\n",
    "\n"
   ]
  },
  {
   "cell_type": "markdown",
   "metadata": {},
   "source": [
    "### Adjacencies available:\n",
    "- **adjacency_hyperlinks**: constructed with every category and links based on hyperlinks. **This is directed and it is normal!** If you need it otherwise, symmetrise it and save it in another csv. \n",
    "- ..."
   ]
  },
  {
   "cell_type": "markdown",
   "metadata": {},
   "source": [
    "### Useful functions:\n",
    "\n",
    "From Task 1:\n",
    "- sparsify_adjacency(adjacency, All_Nodes, epsilon, seed): sparsify the adjacency matrix and also returns the list of nodes in it and their categories.\n",
    "\n",
    "- assign_values(All_Nodes, assign_val): assign a value to each category based on assign_val. First entry for 'player', second for 'Country' and last for 'National Team'.\n",
    "\n",
    "From Task 2:\n",
    "- ...\n",
    "\n"
   ]
  },
  {
   "cell_type": "markdown",
   "metadata": {},
   "source": [
    "## Install\n",
    "\n",
    "..."
   ]
  },
  {
   "cell_type": "markdown",
   "metadata": {},
   "source": [
    "# Imports:"
   ]
  },
  {
   "cell_type": "code",
   "execution_count": null,
   "metadata": {},
   "outputs": [],
   "source": [
    "import numpy as np\n",
    "import pandas as pd\n",
    "import networkx as nx\n",
    "import matplotlib.pyplot as plt\n",
    "import copy\n",
    "\n",
    "from pygsp import graphs, filters, reduction, plotting\n",
    "from scipy import sparse\n",
    "\n",
    "%matplotlib inline"
   ]
  },
  {
   "cell_type": "markdown",
   "metadata": {},
   "source": [
    "# Part I\n",
    "# Structure of the Graph with Hyperlink Connections between sites"
   ]
  },
  {
   "cell_type": "markdown",
   "metadata": {},
   "source": [
    "## Import Data"
   ]
  },
  {
   "cell_type": "code",
   "execution_count": null,
   "metadata": {},
   "outputs": [],
   "source": [
    "Nodes_Linked = pd.read_csv(\"./Data/Nodes_Linked.csv\", sep='\\t', encoding= 'utf-16')\n",
    "All_Nodes = pd.read_csv(\"./Data/All_Nodes.csv\", sep='\\t', encoding= 'utf-16')\n"
   ]
  },
  {
   "cell_type": "markdown",
   "metadata": {},
   "source": [
    "## Make Adjacency (great again)\n",
    "\n",
    "If you are not going to change it, you can skip this and load it."
   ]
  },
  {
   "cell_type": "code",
   "execution_count": null,
   "metadata": {},
   "outputs": [],
   "source": [
    "All_Nodes.reset_index(level=0, inplace=True)\n",
    "All_Nodes = All_Nodes.rename(columns={'index':'node_idx'})\n",
    "\n",
    "\n",
    "# Create a conversion table from name to node index.\n",
    "name2idx = All_Nodes[['node_idx', 'Node']]\n",
    "name2idx = name2idx.set_index('Node')\n",
    "\n",
    "Nodes_Linked = Nodes_Linked.join(name2idx, on='Nodes')\n",
    "Nodes_Linked = Nodes_Linked.join(name2idx, on='Links', rsuffix='_target')\n",
    "Nodes_Linked_Full = Nodes_Linked.copy(deep=True)\n",
    "Nodes_Linked = Nodes_Linked.drop(columns=['Nodes', 'Links', 'Node_Category'])\n",
    "Nodes_Linked['node_idx'] = Nodes_Linked['node_idx'].astype(int)\n",
    "Nodes_Linked['node_idx_target'] = Nodes_Linked['node_idx_target'].astype(int)"
   ]
  },
  {
   "cell_type": "markdown",
   "metadata": {},
   "source": [
    "<b>Check if any value is Nan!</b>"
   ]
  },
  {
   "cell_type": "code",
   "execution_count": null,
   "metadata": {},
   "outputs": [],
   "source": [
    "Nodes_Linked.isnull().any().any()"
   ]
  },
  {
   "cell_type": "markdown",
   "metadata": {},
   "source": [
    "<b>Great! Now build the Adjacency Matrix</b>:"
   ]
  },
  {
   "cell_type": "code",
   "execution_count": null,
   "metadata": {},
   "outputs": [],
   "source": [
    "n_nodes = len(All_Nodes)\n",
    "print(\"Number of nodes \", n_nodes)\n",
    "adjacency = np.zeros((n_nodes, n_nodes), dtype=int)\n",
    "for idx, row in Nodes_Linked.iterrows():\n",
    "    if np.isnan(row.node_idx_target):\n",
    "        continue\n",
    "    i, j = int(row.node_idx), int(row.node_idx_target)\n",
    "    adjacency[i, j] = 1"
   ]
  },
  {
   "cell_type": "markdown",
   "metadata": {},
   "source": [
    "<b>Set Diagonal to 0</b>:"
   ]
  },
  {
   "cell_type": "code",
   "execution_count": null,
   "metadata": {},
   "outputs": [],
   "source": [
    "Sum = 0\n",
    "for i in range(n_nodes):\n",
    "    Sum += adjacency[i,i]\n",
    "    adjacency[i,i] = 0\n",
    "print(\"Sum of values on the diagonal was \" +str(Sum)+\". Now it's 0.\")"
   ]
  },
  {
   "cell_type": "markdown",
   "metadata": {},
   "source": [
    "**Display:**"
   ]
  },
  {
   "cell_type": "code",
   "execution_count": null,
   "metadata": {},
   "outputs": [],
   "source": [
    "fig = plt.figure(figsize = (15,8))\n",
    "ax1 = fig.add_subplot(1,2,1)\n",
    "ax1.spy(adjacency, markersize=1)\n",
    "ax1.set_title('Adjacency Matrix')\n",
    "ax2= fig.add_subplot(1,2,2)\n",
    "ax2.spy(adjacency[700:, 700:], markersize=1)\n",
    "ax2.set_title('Adjacency Matrix Zoomed on [700:,700:]')\n",
    "\n",
    "plt.show()\n",
    "\n",
    "print(\"Diagonal on the right? Example adjacency(760, 792) = \" + str(adjacency[760, 792]) +\\\n",
    "      \". Corresponds to link (\" + str(All_Nodes.iloc[760,1])+\",\" + str(All_Nodes.iloc[792,1])+\").\")"
   ]
  },
  {
   "cell_type": "markdown",
   "metadata": {},
   "source": [
    "We can clearly observe that the first 732 entries are players, connecting to about anything. They are then followed by the 32 countries taking part in the world cup, only connecting themselves and their respective national teams (though some other teams may appear in their sport history due to some notable event. This is the case for Iceland for example, as can be seen below). Finally, the national teams connect to everyone (and themselves heavily, since the history of matches maps this)."
   ]
  },
  {
   "cell_type": "code",
   "execution_count": null,
   "metadata": {},
   "outputs": [],
   "source": [
    "Nodes_Linked_Full.iloc[[24642, 24643, 24651], :]"
   ]
  },
  {
   "cell_type": "markdown",
   "metadata": {},
   "source": [
    "## Save the Adjacency"
   ]
  },
  {
   "cell_type": "code",
   "execution_count": null,
   "metadata": {},
   "outputs": [],
   "source": [
    "if (0):\n",
    "    df_adjacency = pd.DataFrame(adjacency)\n",
    "    df_adjacency.to_csv('./Data/Adjacencies/adjacency_hyperlinks.csv', index=False)"
   ]
  },
  {
   "cell_type": "markdown",
   "metadata": {},
   "source": [
    "## Let's make the matrix sparse and display the graph associated"
   ]
  },
  {
   "cell_type": "markdown",
   "metadata": {},
   "source": [
    "Check that it is indeed connected. "
   ]
  },
  {
   "cell_type": "code",
   "execution_count": null,
   "metadata": {},
   "outputs": [],
   "source": [
    "adjacency = pd.read_csv(\"./Data/Adjacencies/adjacency_hyperlinks.csv\").values"
   ]
  },
  {
   "cell_type": "code",
   "execution_count": null,
   "metadata": {},
   "outputs": [],
   "source": [
    "adjacency_sparsed = sparse.csr_matrix(adjacency)"
   ]
  },
  {
   "cell_type": "code",
   "execution_count": null,
   "metadata": {},
   "outputs": [],
   "source": [
    "G = graphs.Graph(adjacency_sparsed)\n",
    "print('{} nodes, {} edges'.format(G.N, G.Ne))\n",
    "\n",
    "print('Connected: {}'.format(G.is_connected()))\n",
    "print('Directed: {}'.format(G.is_directed()))\n",
    "fig = plt.figure(figsize = (15,8))\n",
    "plt.hist(G.d)\n",
    "plt.title('Degree Distribution of the Graph')\n",
    "plt.xlabel('Degree Value')\n",
    "plt.ylabel('Number of node in that range')\n",
    "plt.show()\n",
    "\n",
    "#print(\"Maximum of \" +str(G.d[783])+ \" corresponds to \" + str(All_Nodes.iloc[783, 1]) +\".\")"
   ]
  },
  {
   "cell_type": "markdown",
   "metadata": {},
   "source": [
    "So we do have a connected and directed graph. Note that the average number of connection is quite high (27532/800 = 34.42)! The extremum of 122 corresponds to the Croatian national football team (https://en.wikipedia.org/wiki/Croatia_national_football_team) which has an amazingly complete page."
   ]
  },
  {
   "cell_type": "markdown",
   "metadata": {},
   "source": [
    "The next plot of the graph takes a good while. "
   ]
  },
  {
   "cell_type": "code",
   "execution_count": null,
   "metadata": {},
   "outputs": [],
   "source": [
    "fig, ax = plt.subplots(figsize=(20, 20))\n",
    "G.set_coordinates()\n",
    "G.plot(backend= 'matplotlib', plot_name = 'Graph of Hyperlinks',\\\n",
    "    show_edges = 'True',vertex_size =50, ax = ax, save_as=\"png\")\n",
    "if(0):\n",
    "    plt.savefig('./Images/TASK1_Graph_Hyperlinks.png')\n",
    "plt.show()"
   ]
  },
  {
   "cell_type": "markdown",
   "metadata": {},
   "source": [
    "This is quite naturally very dense and hard to read. To observe the structure, let's <b>get a sparsified version of this graph</b> as governed by the parameter _epsilon_."
   ]
  },
  {
   "cell_type": "code",
   "execution_count": null,
   "metadata": {},
   "outputs": [],
   "source": [
    "epsilon = 0.4\n",
    "seed = 9087   #To have same results"
   ]
  },
  {
   "cell_type": "markdown",
   "metadata": {},
   "source": [
    "The following sparsifies thanks to PYGSP but doesn't indicate which nodes are left so useless here: G_Sparsified = reduction.graph_sparsify(G, epsilon)\n",
    "\n",
    "We rather write a function doing this (note that the seed will be fixed):"
   ]
  },
  {
   "cell_type": "code",
   "execution_count": null,
   "metadata": {},
   "outputs": [],
   "source": [
    "def sparsify_adjacency(adjacency, All_Nodes, epsilon, seed):\n",
    "    \"\"\"\n",
    "    Returns the sparsified adjacency as well as the list of nodes in it (with their categories)\n",
    "    \"\"\"\n",
    "    nodes_local = All_Nodes.copy(deep=True)\n",
    "    adjacency_local = copy.deepcopy(adjacency)\n",
    "    \n",
    "    n_nodes_initial = adjacency.shape[0]\n",
    "    n_nodes_final = round(n_nodes_initial*epsilon)\n",
    "    n_nodes_deleted= n_nodes_initial - n_nodes_final\n",
    "    print(\"Will end up with \"+ str(n_nodes_final)+ \" nodes.\")\n",
    "    \n",
    "    np.random.seed(seed)\n",
    "    nodes_to_delete = np.random.choice(n_nodes_initial, n_nodes_deleted,replace=False)\n",
    "    \n",
    "    #Remove selected rows(and columns)\n",
    "    adjacency_local = np.delete(adjacency_local, nodes_to_delete, axis=0)        \n",
    "    adjacency_local = np.delete(adjacency_local, nodes_to_delete, axis=1)\n",
    "    \n",
    "    #Remove these from the list of nodes and their categories\n",
    "    nodes_local = nodes_local.drop(nodes_local.index[nodes_to_delete])\n",
    "\n",
    "    return adjacency_local, nodes_local\n"
   ]
  },
  {
   "cell_type": "code",
   "execution_count": null,
   "metadata": {},
   "outputs": [],
   "source": [
    "adjacency_sparsified, Nodes_Sparsified = sparsify_adjacency(adjacency, All_Nodes, 0.4, seed)"
   ]
  },
  {
   "cell_type": "markdown",
   "metadata": {},
   "source": [
    "To plot the signal, we will assign a value to each category from the list assign_val (first elem for players, second countries and last national teams). The next function applies this by creating a <b>new column <i>Category_bin</i></b> in a new dataframe."
   ]
  },
  {
   "cell_type": "code",
   "execution_count": null,
   "metadata": {},
   "outputs": [],
   "source": [
    "def assign_values(All_Nodes, assign_val):\n",
    "    nodes_local = All_Nodes.copy(deep=True)\n",
    "    nodes_local['Category_bin'] = ''\n",
    "    size = nodes_local.shape[0]\n",
    "    for i in range(size):\n",
    "        cat = nodes_local.iloc[i, 1]\n",
    "        if(cat == 'player'):\n",
    "            nodes_local.iloc[i, 2] = assign_val[0]\n",
    "        if(cat == 'Country'):\n",
    "            nodes_local.iloc[i, 2] = assign_val[1]\n",
    "        if(cat == 'National Team'):\n",
    "            nodes_local.iloc[i, 2] = assign_val[2]\n",
    "    return nodes_local"
   ]
  },
  {
   "cell_type": "code",
   "execution_count": null,
   "metadata": {},
   "outputs": [],
   "source": [
    "Nodes_Sparsified_binned = assign_values(Nodes_Sparsified, [0, 5, 10])"
   ]
  },
  {
   "cell_type": "code",
   "execution_count": null,
   "metadata": {},
   "outputs": [],
   "source": [
    "adjacency_sparsified_sparsed = sparse.csr_matrix(adjacency_sparsified)\n",
    "signal_category = Nodes_Sparsified_binned['Category_bin'].values"
   ]
  },
  {
   "cell_type": "code",
   "execution_count": null,
   "metadata": {},
   "outputs": [],
   "source": [
    "G_Sparsified = graphs.Graph(adjacency_sparsified_sparsed)\n",
    "fig, ax = plt.subplots(figsize=(20, 10))\n",
    "G_Sparsified.set_coordinates()\n",
    "plotting.plot_signal(G_Sparsified, signal_category, backend= 'matplotlib',ax = ax, \\\n",
    "                     plot_name = 'Graph of Hyperlinks Sparsed', vertex_size =100)\n",
    "if(0):\n",
    "    plt.savefig('./Images/TASK1_Graph_Hyperlinks_Sparsified.png')\n",
    "plt.show()"
   ]
  },
  {
   "cell_type": "markdown",
   "metadata": {},
   "source": [
    "What a wonderful mess! A structure is quite visible. In yellow, one finds the _National Teams_. These are quite visibly at the heart of the network : both connecting _Players_ (purple) and the _Countries_ (blue). Note how the countries form a connected set on the left. \n",
    "\n",
    "#### Let's observe the degree distribution seperately for each category. \n",
    "\n",
    "We take back our full system. Remember there are 736 players, 32 countries and 32 teams and that they appear in that order in the adjacency."
   ]
  },
  {
   "cell_type": "code",
   "execution_count": null,
   "metadata": {},
   "outputs": [],
   "source": [
    "degree_dist_player_part = G.d[0:736]\n",
    "degree_dist_countries_part = G.d[736:768]\n",
    "degree_dist_teams_part = G.d[768:800]"
   ]
  },
  {
   "cell_type": "code",
   "execution_count": null,
   "metadata": {},
   "outputs": [],
   "source": [
    "fig = plt.figure(figsize = (15,5))\n",
    "ax1 = fig.add_subplot(1,3,1)\n",
    "ax1.hist(degree_dist_player_part, color = '#4d004d')\n",
    "ax1.set_title('Degree Distribution of Players')\n",
    "ax1.set_xlabel('Degree Value')\n",
    "ax1.set_ylabel('Number of node in that range')\n",
    "ax1.set_xlim(0, 140)\n",
    "\n",
    "ax2 = fig.add_subplot(1,3,2)\n",
    "ax2.hist(degree_dist_countries_part, color = '#009999')\n",
    "ax2.set_title('Degree Distribution of Countries')\n",
    "ax2.set_xlabel('Degree Value')\n",
    "ax2.set_ylabel('Number of node in that range')\n",
    "ax2.set_xlim(0, 140)\n",
    "\n",
    "ax3 = fig.add_subplot(1,3,3)\n",
    "ax3.hist(degree_dist_teams_part, color = '#e6e600')\n",
    "ax3.set_title('Degree Distribution of National Teams')\n",
    "ax3.set_xlabel('Degree Value')\n",
    "ax3.set_ylabel('Number of node in that range')\n",
    "ax3.set_xlim(0, 140)\n",
    "if(0):\n",
    "    plt.savefig('./Images/TASK1_Degree_Distributions.png')\n",
    "\n",
    "\n",
    "plt.show()\n"
   ]
  },
  {
   "cell_type": "markdown",
   "metadata": {},
   "source": [
    "Clearly, these different categories of node do not exhibit the same behaviour. _Countries_ are very poorly connected to the rest of the nodes. They are however a very regular target destination as one can imagine (most players point to their own country). _Players_ have an intermediary behaviour, some being heavily connected (surely famous players<b>*</b>) but most averaging around 30 connections. Finally, _National Teams_ are the most intensely connected since they link most of their players, some of the other national teams (due, for example, to matches history) and their country. Note how Croatia's National Football team appears as an outlier on the 120 centred-bin, as we saw earlier. \n",
    "\n",
    "<b>*</b> For example, players having more than 80 as a degree value are (node labels : [300, 455, 470, 506]). These corresponds to:"
   ]
  },
  {
   "cell_type": "code",
   "execution_count": null,
   "metadata": {},
   "outputs": [],
   "source": [
    "All_Nodes.iloc[[300, 455, 470, 506], :]"
   ]
  },
  {
   "cell_type": "markdown",
   "metadata": {},
   "source": [
    "So yes, quite famous players.\n",
    "\n",
    "## On this bombshell, this first part concludes. "
   ]
  },
  {
   "cell_type": "markdown",
   "metadata": {},
   "source": [
    "# Part 2"
   ]
  },
  {
   "cell_type": "code",
   "execution_count": null,
   "metadata": {},
   "outputs": [],
   "source": [
    "..."
   ]
  }
 ],
 "metadata": {
  "kernelspec": {
   "display_name": "Python 3",
   "language": "python",
   "name": "python3"
  },
  "language_info": {
   "codemirror_mode": {
    "name": "ipython",
    "version": 3
   },
   "file_extension": ".py",
   "mimetype": "text/x-python",
   "name": "python",
   "nbconvert_exporter": "python",
   "pygments_lexer": "ipython3",
   "version": "3.7.0"
  }
 },
 "nbformat": 4,
 "nbformat_minor": 2
}
