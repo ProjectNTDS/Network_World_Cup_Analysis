{
 "cells": [
  {
   "cell_type": "code",
   "execution_count": 1,
   "metadata": {},
   "outputs": [
    {
     "ename": "ModuleNotFoundError",
     "evalue": "No module named 'wikipedia'",
     "output_type": "error",
     "traceback": [
      "\u001b[0;31m---------------------------------------------------------------------------\u001b[0m",
      "\u001b[0;31mModuleNotFoundError\u001b[0m                       Traceback (most recent call last)",
      "\u001b[0;32m<ipython-input-1-743b025fe736>\u001b[0m in \u001b[0;36m<module>\u001b[0;34m()\u001b[0m\n\u001b[0;32m----> 1\u001b[0;31m \u001b[0;32mimport\u001b[0m \u001b[0mwikipedia\u001b[0m\u001b[0;34m\u001b[0m\u001b[0m\n\u001b[0m",
      "\u001b[0;31mModuleNotFoundError\u001b[0m: No module named 'wikipedia'"
     ]
    }
   ],
   "source": [
    "import wikipedia"
   ]
  },
  {
   "cell_type": "markdown",
   "metadata": {},
   "source": [
    "https://pypi.org/project/Wikipedia-API/"
   ]
  },
  {
   "cell_type": "code",
   "execution_count": 8,
   "metadata": {
    "collapsed": true
   },
   "outputs": [],
   "source": [
    "p = wikipedia.page(\"Switzerland\")"
   ]
  },
  {
   "cell_type": "code",
   "execution_count": 74,
   "metadata": {},
   "outputs": [
    {
     "data": {
      "text/plain": [
       "'Switzerland, officially the Swiss Confederation, i'"
      ]
     },
     "execution_count": 74,
     "metadata": {},
     "output_type": "execute_result"
    }
   ],
   "source": [
    "p.summary[0:50]"
   ]
  },
  {
   "cell_type": "code",
   "execution_count": 9,
   "metadata": {},
   "outputs": [
    {
     "data": {
      "text/plain": [
       "'Switzerland has existed as a state in its present form since the adoption of the Swiss Federal Constitution in 1848. The precursors of Switzerland established a protective alliance at the end of the 13th century (1291), forming a loose confederation of states which persisted for centuries.'"
      ]
     },
     "execution_count": 9,
     "metadata": {},
     "output_type": "execute_result"
    }
   ],
   "source": [
    "p.section('History')"
   ]
  },
  {
   "cell_type": "code",
   "execution_count": 72,
   "metadata": {},
   "outputs": [
    {
     "data": {
      "text/plain": [
       "['All articles containing potentially dated statements',\n",
       " 'All articles with dead external links',\n",
       " 'All articles with unsourced statements',\n",
       " 'Articles containing Alemannic German-language text',\n",
       " 'Articles containing French-language text']"
      ]
     },
     "execution_count": 72,
     "metadata": {},
     "output_type": "execute_result"
    }
   ],
   "source": [
    "p.categories[0:5]"
   ]
  },
  {
   "cell_type": "markdown",
   "metadata": {},
   "source": [
    "# USER ACTIVITY"
   ]
  },
  {
   "cell_type": "markdown",
   "metadata": {},
   "source": [
    "Documentation and example of GET requests available at https://wikimedia.org/api/rest_v1/#!/Pageviews_data/\n",
    "\n",
    "Requests library documentation: http://docs.python-requests.org/en/master/"
   ]
  },
  {
   "cell_type": "code",
   "execution_count": 2,
   "metadata": {},
   "outputs": [],
   "source": [
    "import datetime\n",
    "import requests\n",
    "from dateutil.relativedelta import relativedelta"
   ]
  },
  {
   "cell_type": "code",
   "execution_count": 7,
   "metadata": {},
   "outputs": [],
   "source": [
    "def getUserActivity(article, granularity, start, end, project =\"en.wikipedia.org\",\n",
    "                    access=\"all-access\", agent=\"user\",dateformat=\"iso\"):\n",
    "    \"\"\"\n",
    "    Method to obtain user activity of a given page for a given period of time\n",
    "    article: name of the wikiipedia article\n",
    "    granularity: time granularity of activity, either 'monthly' or 'daily'\n",
    "    start: start date of the research as Datetime.datetime object\n",
    "    end: end date of the research as Datetime.datetime object\n",
    "    project: If you want to filter by project, use the domain of any Wikimedia project (by default en.wikipedia.org)\n",
    "    access: If you want to filter by access method, use one of desktop, mobile-app or mobile-web (by default all-access)\n",
    "    agent: If you want to filter by agent type, use one of user, bot or spider (by default user).\n",
    "    dateformat: the dateformat used in result array, can be 'iso','ordinal','datetime'.\n",
    "    return:\n",
    "        it return an array of array of the form [ [user_activity_value1, date1], [user_activity_value2, date2]]\n",
    "    \"\"\"\n",
    "\n",
    "    #granularity['monthly','daily']\n",
    "    #format['iso','ordinal','datetime']\n",
    "    #Be carefull, for daily granularity left bound date is included, for monthly granularity left bound date is excluded\n",
    "    \n",
    "    dstart = start.strftime(\"%Y%m%d\")\n",
    "    dend = end.strftime(\"%Y%m%d\")\n",
    "    path = (\"https://wikimedia.org/api/rest_v1/metrics/pageviews/per-article/\"+project\n",
    "            +\"/\"+access+\"/\"+agent+\"/\"+article+\"/\"+granularity+\"/\"+dstart+\"/\"+dend)\n",
    "    r = requests.get(path)\n",
    "    res = []\n",
    "    for i in range(len(r.json()['items'])):\n",
    "        time_label = None\n",
    "        if granularity == 'daily':\n",
    "            time_label = (start + datetime.timedelta(days=i))\n",
    "        else:\n",
    "            time_label = (start + relativedelta(months=+i))\n",
    "        if dateformat == 'iso':\n",
    "            time_label = time_label.isoformat()\n",
    "        elif dateformat == 'ordinal':\n",
    "            time_label = time_label.toordinal()\n",
    "            \n",
    "        res.append([r.json()['items'][i]['views'],time_label])\n",
    "    return res"
   ]
  },
  {
   "cell_type": "markdown",
   "metadata": {},
   "source": [
    "Example: number of views for article Switzerland on February 2017 and March 2017"
   ]
  },
  {
   "cell_type": "code",
   "execution_count": 8,
   "metadata": {},
   "outputs": [
    {
     "name": "stdout",
     "output_type": "stream",
     "text": [
      "<Response [200]>\n"
     ]
    },
    {
     "data": {
      "text/plain": [
       "[[313410, '2017-02-01T00:00:00'],\n",
       " [344772, '2017-03-01T00:00:00'],\n",
       " [308334, '2017-04-01T00:00:00']]"
      ]
     },
     "execution_count": 8,
     "metadata": {},
     "output_type": "execute_result"
    }
   ],
   "source": [
    "s = datetime.datetime(year=2017,month=2,day=1)\n",
    "e = datetime.datetime(year=2017,month=5,day=1)\n",
    "getUserActivity(article=\"Switzerland\",granularity=\"monthly\",start=s,end=e,dateformat=\"iso\")"
   ]
  },
  {
   "cell_type": "markdown",
   "metadata": {},
   "source": [
    "Example: number of views for article France on 22 September 2017 and 23 September 2017"
   ]
  },
  {
   "cell_type": "code",
   "execution_count": 9,
   "metadata": {},
   "outputs": [
    {
     "name": "stdout",
     "output_type": "stream",
     "text": [
      "<Response [200]>\n"
     ]
    },
    {
     "data": {
      "text/plain": [
       "[[9657, datetime.datetime(2017, 9, 22, 0, 0)],\n",
       " [8875, datetime.datetime(2017, 9, 23, 0, 0)],\n",
       " [9661, datetime.datetime(2017, 9, 24, 0, 0)]]"
      ]
     },
     "execution_count": 9,
     "metadata": {},
     "output_type": "execute_result"
    }
   ],
   "source": [
    "s = datetime.datetime(year=2017,month=9,day=22)\n",
    "e = datetime.datetime(year=2017,month=9,day=24)\n",
    "getUserActivity(article=\"Switzerland\",granularity=\"daily\",start=s,end=e,dateformat=\"datetime\")"
   ]
  },
  {
   "cell_type": "code",
   "execution_count": null,
   "metadata": {},
   "outputs": [],
   "source": []
  }
 ],
 "metadata": {
  "kernelspec": {
   "display_name": "Python 3",
   "language": "python",
   "name": "python3"
  },
  "language_info": {
   "codemirror_mode": {
    "name": "ipython",
    "version": 3
   },
   "file_extension": ".py",
   "mimetype": "text/x-python",
   "name": "python",
   "nbconvert_exporter": "python",
   "pygments_lexer": "ipython3",
   "version": "3.7.0"
  }
 },
 "nbformat": 4,
 "nbformat_minor": 2
}
