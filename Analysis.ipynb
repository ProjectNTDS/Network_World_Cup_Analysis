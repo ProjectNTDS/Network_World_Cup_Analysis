{
 "cells": [
  {
   "cell_type": "markdown",
   "metadata": {},
   "source": [
    "# Remarks:\n",
    "\n",
    "- Save your adjacency with an evident name in the sub folder \"<b><i>./Data/Adjacencies/</i></b>\" and update list next cell.\n",
    "- Only overwrite these if you're sure of what you're bringing\n",
    "- If you change Imports, make sure the rest works\n",
    "- Please check your results"
   ]
  },
  {
   "cell_type": "markdown",
   "metadata": {},
   "source": [
    "### Adjacencies available:\n",
    "- **adjacency_hyperlinks**: constructed with every category and links based on hyperlinks. **This is directed and it is normal!** If you need it otherwise, symmetrise it and save it in another csv. \n",
    "- ..."
   ]
  },
  {
   "cell_type": "markdown",
   "metadata": {},
   "source": [
    "# Imports:"
   ]
  },
  {
   "cell_type": "code",
   "execution_count": null,
   "metadata": {},
   "outputs": [],
   "source": [
    "import numpy as np\n",
    "import pandas as pd\n",
    "import networkx as nx\n",
    "import matplotlib.pyplot as plt\n",
    "import copy\n",
    "\n",
    "from pygsp import graphs, filters\n",
    "from scipy import sparse\n",
    "\n",
    "%matplotlib inline"
   ]
  },
  {
   "cell_type": "markdown",
   "metadata": {},
   "source": [
    "# Part I: Structure of the Graph with Hyperlink Connections between sites"
   ]
  },
  {
   "cell_type": "markdown",
   "metadata": {},
   "source": [
    "## Import Data"
   ]
  },
  {
   "cell_type": "code",
   "execution_count": null,
   "metadata": {},
   "outputs": [],
   "source": [
    "Nodes_Linked = pd.read_csv(\"./Data/Nodes_Linked.csv\", sep='\\t', encoding= 'utf-16')\n",
    "All_Nodes = pd.read_csv(\"./Data/All_Nodes.csv\", sep='\\t', encoding= 'utf-16')\n"
   ]
  },
  {
   "cell_type": "markdown",
   "metadata": {},
   "source": [
    "## Make Adjacency (great again)"
   ]
  },
  {
   "cell_type": "code",
   "execution_count": null,
   "metadata": {},
   "outputs": [],
   "source": [
    "All_Nodes.reset_index(level=0, inplace=True)\n",
    "All_Nodes = All_Nodes.rename(columns={'index':'node_idx'})\n",
    "\n",
    "\n",
    "# Create a conversion table from name to node index.\n",
    "name2idx = All_Nodes[['node_idx', 'Node']]\n",
    "name2idx = name2idx.set_index('Node')\n",
    "\n",
    "Nodes_Linked = Nodes_Linked.join(name2idx, on='Nodes')\n",
    "Nodes_Linked = Nodes_Linked.join(name2idx, on='Links', rsuffix='_target')\n",
    "Nodes_Linked_Full = Nodes_Linked.copy(deep=True)\n",
    "Nodes_Linked = Nodes_Linked.drop(columns=['Nodes', 'Links', 'Node_Category'])\n",
    "Nodes_Linked['node_idx'] = Nodes_Linked['node_idx'].astype(int)\n",
    "Nodes_Linked['node_idx_target'] = Nodes_Linked['node_idx_target'].astype(int)"
   ]
  },
  {
   "cell_type": "markdown",
   "metadata": {},
   "source": [
    "<b>Check if any value is Nan!</b>"
   ]
  },
  {
   "cell_type": "code",
   "execution_count": null,
   "metadata": {},
   "outputs": [],
   "source": [
    "Nodes_Linked.isnull().any().any()"
   ]
  },
  {
   "cell_type": "markdown",
   "metadata": {},
   "source": [
    "<b>Great! Now build the Adjacency Matrix</b>:"
   ]
  },
  {
   "cell_type": "code",
   "execution_count": null,
   "metadata": {},
   "outputs": [],
   "source": [
    "n_nodes = len(All_Nodes)\n",
    "print(\"Number of nodes \", n_nodes)\n",
    "adjacency = np.zeros((n_nodes, n_nodes), dtype=int)\n",
    "for idx, row in Nodes_Linked.iterrows():\n",
    "    if np.isnan(row.node_idx_target):\n",
    "        continue\n",
    "    i, j = int(row.node_idx), int(row.node_idx_target)\n",
    "    adjacency[i, j] = 1"
   ]
  },
  {
   "cell_type": "markdown",
   "metadata": {},
   "source": [
    "<b>Set Diagonal to 0</b>:"
   ]
  },
  {
   "cell_type": "code",
   "execution_count": null,
   "metadata": {},
   "outputs": [],
   "source": [
    "Sum = 0\n",
    "for i in range(n_nodes):\n",
    "    Sum += adjacency[i,i]\n",
    "    adjacency[i,i] = 0\n",
    "print(\"Sum of values on the diagonal was \" +str(Sum)+\". Now it's 0.\")"
   ]
  },
  {
   "cell_type": "markdown",
   "metadata": {},
   "source": [
    "**Display:**"
   ]
  },
  {
   "cell_type": "code",
   "execution_count": null,
   "metadata": {},
   "outputs": [],
   "source": [
    "fig = plt.figure(figsize = (15,8))\n",
    "ax1 = fig.add_subplot(1,2,1)\n",
    "ax1.spy(adjacency, markersize=1)\n",
    "ax1.set_title('Adjacency Matrix')\n",
    "ax2= fig.add_subplot(1,2,2)\n",
    "ax2.spy(adjacency[700:, 700:], markersize=1)\n",
    "ax2.set_title('Adjacency Matrix Zoomed on [700:,700:]')\n",
    "\n",
    "plt.show()\n",
    "\n",
    "print(\"Diagonal on the left? Example adjacency(760, 792) = \" + str(adjacency[760, 792]) +\\\n",
    "      \". Corresponds to link (\" + str(All_Nodes.iloc[760,1])+\",\" + str(All_Nodes.iloc[792,1])+\").\")"
   ]
  },
  {
   "cell_type": "markdown",
   "metadata": {},
   "source": [
    "We can clearly observe that the first 732 entries are players, connecting to about anything. They are then followed by the 32 countries taking part in the world cup, only connecting themselves and their respective national teams (though some other teams may appear in their sport history due to some notable event. This is the case for Iceland for example, as can be seen below). Finally, the national teams connect to everyone (and themselves heavily, since the history of matches maps this)."
   ]
  },
  {
   "cell_type": "code",
   "execution_count": null,
   "metadata": {},
   "outputs": [],
   "source": [
    "Nodes_Linked_Full.iloc[[24642, 24643, 24651], :]"
   ]
  },
  {
   "cell_type": "markdown",
   "metadata": {},
   "source": [
    "## Save the Adjacency"
   ]
  },
  {
   "cell_type": "code",
   "execution_count": null,
   "metadata": {},
   "outputs": [],
   "source": [
    "if (0):\n",
    "    df_adjacency = pd.DataFrame(adjacency)\n",
    "    df_adjacency.to_csv('./Data/Adjacencies/adjacency_hyperlinks.csv')"
   ]
  },
  {
   "cell_type": "markdown",
   "metadata": {},
   "source": [
    "## Let's make the matrix sparse and display the graph associated"
   ]
  },
  {
   "cell_type": "markdown",
   "metadata": {},
   "source": [
    "Check that it is indeed connected (not isolated component). "
   ]
  },
  {
   "cell_type": "code",
   "execution_count": null,
   "metadata": {},
   "outputs": [],
   "source": [
    "adjacency_sparsed = sparse.csr_matrix(adjacency)"
   ]
  },
  {
   "cell_type": "code",
   "execution_count": null,
   "metadata": {},
   "outputs": [],
   "source": [
    "G = graphs.Graph(adjacency_sparsed)\n",
    "print('{} nodes, {} edges'.format(G.N, G.Ne))\n",
    "\n",
    "print('Connected: {}'.format(G.is_connected()))\n",
    "print('Directed: {}'.format(G.is_directed()))\n",
    "fig = plt.figure(figsize = (15,8))\n",
    "plt.hist(G.d)\n",
    "plt.title('Degree Distribution of the Graph')\n",
    "plt.xlabel('Degree Value')\n",
    "plt.ylabel('Number of node in that range')\n",
    "plt.show()\n",
    "\n",
    "print(\"Maximum of \" +str(G.d[783])+ \" corresponds to \" + str(All_Nodes.iloc[783, 1]) +\".\")"
   ]
  },
  {
   "cell_type": "markdown",
   "metadata": {},
   "source": [
    "So we do have a connected and directed graph. Note that the average number of connection is quite high (27532/800 = 34.42)! The extremum of 122 corresponds to the Croatian national football team (https://en.wikipedia.org/wiki/Croatia_national_football_team) which has an amazingly complete page."
   ]
  },
  {
   "cell_type": "code",
   "execution_count": null,
   "metadata": {},
   "outputs": [],
   "source": [
    "fig = plt.figure(figsize=(10, 10))\n",
    "G.set_coordinates()\n",
    "G.plot()\n",
    "\n",
    "plt.show()"
   ]
  },
  {
   "cell_type": "code",
   "execution_count": null,
   "metadata": {},
   "outputs": [],
   "source": []
  }
 ],
 "metadata": {
  "kernelspec": {
   "display_name": "Python 3",
   "language": "python",
   "name": "python3"
  },
  "language_info": {
   "codemirror_mode": {
    "name": "ipython",
    "version": 3
   },
   "file_extension": ".py",
   "mimetype": "text/x-python",
   "name": "python",
   "nbconvert_exporter": "python",
   "pygments_lexer": "ipython3",
   "version": "3.7.0"
  }
 },
 "nbformat": 4,
 "nbformat_minor": 2
}
